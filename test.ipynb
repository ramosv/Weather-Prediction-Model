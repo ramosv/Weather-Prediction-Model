{
 "cells": [
  {
   "cell_type": "code",
   "execution_count": 4,
   "metadata": {},
   "outputs": [
    {
     "name": "stdout",
     "output_type": "stream",
     "text": [
      "Hello world, again\n"
     ]
    }
   ],
   "source": [
    "TEST_VARIABLE = \"Hello world, again\"\n",
    "print(TEST_VARIABLE)"
   ]
  },
  {
   "cell_type": "markdown",
   "metadata": {},
   "source": [
    "# Test Markdown\n",
    "> Hello world\n",
    "\n",
    "To Render the MD, look to the hovering box with a check at the top-right of this MD box."
   ]
  },
  {
   "cell_type": "code",
   "execution_count": 13,
   "metadata": {},
   "outputs": [
    {
     "name": "stdout",
     "output_type": "stream",
     "text": [
      "                       DATE HourlyDryBulbTemperature\n",
      "0       2014-01-01T00:53:00                       38\n",
      "1       2014-01-01T01:53:00                       36\n",
      "2       2014-01-01T02:00:00                       36\n",
      "3       2014-01-01T02:53:00                       36\n",
      "4       2014-01-01T03:53:00                       41\n",
      "...                     ...                      ...\n",
      "124953  2022-12-31T22:53:00                       29\n",
      "124954  2022-12-31T23:00:00                       29\n",
      "124955  2022-12-31T23:53:00                       28\n",
      "124956  2022-12-31T23:59:00                      NaN\n",
      "124957  2022-12-31T23:59:00                      NaN\n",
      "\n",
      "[124958 rows x 2 columns]\n"
     ]
    },
    {
     "data": {
      "text/plain": [
       "'\\nI think it would be good to start dealing with just data and HourlyDryBulbTemperature at first.\\n\\n'"
      ]
     },
     "execution_count": 13,
     "metadata": {},
     "output_type": "execute_result"
    }
   ],
   "source": [
    "import pandas\n",
    "\n",
    "# I renamed the unzipped file to \"data\", just so you aren't confused why it's /data/Denver here\n",
    "data_frame = pandas.read_csv(\"./raw_data/data/Denver-2014-2022.csv\")\n",
    "data_frame.tail()\n"
   ]
  },
  {
   "cell_type": "code",
   "execution_count": 22,
   "metadata": {},
   "outputs": [
    {
     "name": "stdout",
     "output_type": "stream",
     "text": [
      "                       DATE HourlyDryBulbTemperature\n",
      "0       2014-01-01T00:53:00                       38\n",
      "1       2014-01-01T01:53:00                       36\n",
      "2       2014-01-01T02:00:00                       36\n",
      "3       2014-01-01T02:53:00                       36\n",
      "4       2014-01-01T03:53:00                       41\n",
      "...                     ...                      ...\n",
      "124953  2022-12-31T22:53:00                       29\n",
      "124954  2022-12-31T23:00:00                       29\n",
      "124955  2022-12-31T23:53:00                       28\n",
      "124956  2022-12-31T23:59:00                      NaN\n",
      "124957  2022-12-31T23:59:00                      NaN\n",
      "\n",
      "[124958 rows x 2 columns]\n",
      "                      DATE HourlyDryBulbTemperature\n",
      "0      2014-01-01 00:53:00                       38\n",
      "1      2014-01-01 01:53:00                       36\n",
      "2      2014-01-01 02:00:00                       36\n",
      "3      2014-01-01 02:53:00                       36\n",
      "4      2014-01-01 03:53:00                       41\n",
      "...                    ...                      ...\n",
      "124953 2022-12-31 22:53:00                       29\n",
      "124954 2022-12-31 23:00:00                       29\n",
      "124955 2022-12-31 23:53:00                       28\n",
      "124956 2022-12-31 23:59:00                      NaN\n",
      "124957 2022-12-31 23:59:00                      NaN\n",
      "\n",
      "[124958 rows x 2 columns]\n"
     ]
    },
    {
     "data": {
      "text/html": [
       "<div>\n",
       "<style scoped>\n",
       "    .dataframe tbody tr th:only-of-type {\n",
       "        vertical-align: middle;\n",
       "    }\n",
       "\n",
       "    .dataframe tbody tr th {\n",
       "        vertical-align: top;\n",
       "    }\n",
       "\n",
       "    .dataframe thead th {\n",
       "        text-align: right;\n",
       "    }\n",
       "</style>\n",
       "<table border=\"1\" class=\"dataframe\">\n",
       "  <thead>\n",
       "    <tr style=\"text-align: right;\">\n",
       "      <th></th>\n",
       "      <th>DATE</th>\n",
       "      <th>HourlyDryBulbTemperature</th>\n",
       "    </tr>\n",
       "  </thead>\n",
       "  <tbody>\n",
       "    <tr>\n",
       "      <th>124953</th>\n",
       "      <td>2022-12-31 22:53:00</td>\n",
       "      <td>29</td>\n",
       "    </tr>\n",
       "    <tr>\n",
       "      <th>124954</th>\n",
       "      <td>2022-12-31 23:00:00</td>\n",
       "      <td>29</td>\n",
       "    </tr>\n",
       "    <tr>\n",
       "      <th>124955</th>\n",
       "      <td>2022-12-31 23:53:00</td>\n",
       "      <td>28</td>\n",
       "    </tr>\n",
       "    <tr>\n",
       "      <th>124956</th>\n",
       "      <td>2022-12-31 23:59:00</td>\n",
       "      <td>28</td>\n",
       "    </tr>\n",
       "    <tr>\n",
       "      <th>124957</th>\n",
       "      <td>2022-12-31 23:59:00</td>\n",
       "      <td>28</td>\n",
       "    </tr>\n",
       "  </tbody>\n",
       "</table>\n",
       "</div>"
      ],
      "text/plain": [
       "                      DATE HourlyDryBulbTemperature\n",
       "124953 2022-12-31 22:53:00                       29\n",
       "124954 2022-12-31 23:00:00                       29\n",
       "124955 2022-12-31 23:53:00                       28\n",
       "124956 2022-12-31 23:59:00                       28\n",
       "124957 2022-12-31 23:59:00                       28"
      ]
     },
     "execution_count": 22,
     "metadata": {},
     "output_type": "execute_result"
    }
   ],
   "source": [
    "import pandas as pd\n",
    "\n",
    "'''\n",
    "To keep it simple at first. I think it would be good to start with just data and HourlyDryBulbTemperature.\n",
    "Eventually we would want to use: humidity, precipitation, wind speed, air pressure and more variables.\n",
    "'''\n",
    "\n",
    "#Have to do full path on my machine\n",
    "data = pd.read_csv(\"C:/Users/ramosv/Desktop/GitHub/Weather-Prediction-Model/raw_data/Weather Prediction Raw Data/Denver-2014-2022.csv\", usecols=[\"DATE\",\"HourlyDryBulbTemperature\"])\n",
    "print(data) # prints head and tail\n",
    "\n",
    "#Turning DATE to a date object\n",
    "data['DATE'] = pd.to_datetime(data['DATE'])\n",
    "print(data)\n",
    "\n",
    "#Handeling missing data values by interpolating or last know value\n",
    "'''\n",
    "For sequential data it makes sense to use interpolation\n",
    "\n",
    "Example:\n",
    "If we are missing data for temperature at 1:00pm, but we have 12:00pm = 20F and 2:00 = 22F\n",
    "Then we can fill in the data at 1:00pm to 21F\n",
    "Fills in data based on surrounding data points\n",
    "\n",
    "First, try Interpolate\n",
    "Second, Last Known Value\n",
    "\n",
    "'''\n",
    "data['HourlyDryBulbTemperature'].interpolate(inplace=True)\n",
    "\n",
    "data['HourlyDryBulbTemperature'].fillna(method='ffill', inplace=True)\n",
    "\n",
    "data.tail()\n"
   ]
  },
  {
   "cell_type": "code",
   "execution_count": 31,
   "metadata": {},
   "outputs": [
    {
     "name": "stderr",
     "output_type": "stream",
     "text": [
      "C:\\Users\\ramosv\\AppData\\Local\\Temp\\ipykernel_18160\\1695616801.py:13: DtypeWarning: Columns (44) have mixed types. Specify dtype option on import or set low_memory=False.\n",
      "  frame = pd.read_csv(path+file,usecols = [\"DATE\",\"HourlyDryBulbTemperature\"])\n"
     ]
    },
    {
     "name": "stdout",
     "output_type": "stream",
     "text": [
      "[                      DATE HourlyDryBulbTemperature\n",
      "0      2003-01-01 00:00:00                       18\n",
      "1      2003-01-01 00:52:00                       18\n",
      "2      2003-01-01 01:00:00                       18\n",
      "3      2003-01-01 01:52:00                       19\n",
      "4      2003-01-01 02:00:00                       19\n",
      "...                    ...                      ...\n",
      "132590 2012-12-31 22:52:00                        7\n",
      "132591 2012-12-31 23:00:00                        7\n",
      "132592 2012-12-31 23:52:00                        6\n",
      "132593 2012-12-31 23:59:00                        6\n",
      "132594 2012-12-31 23:59:00                        6\n",
      "\n",
      "[132595 rows x 2 columns],                       DATE HourlyDryBulbTemperature\n",
      "0      2003-01-01 00:02:00                       32\n",
      "1      2003-01-01 00:53:00                       32\n",
      "2      2003-01-01 01:46:00                       32\n",
      "3      2003-01-01 01:53:00                       32\n",
      "4      2003-01-01 02:53:00                       32\n",
      "...                    ...                      ...\n",
      "133869 2012-12-31 13:53:00                       22\n",
      "133870 2012-12-31 14:00:00                       22\n",
      "133871 2012-12-31 14:53:00                       21\n",
      "133872 2012-12-31 15:53:00                       21\n",
      "133873 2012-12-31 16:53:00                       20\n",
      "\n",
      "[133874 rows x 2 columns],                       DATE HourlyDryBulbTemperature\n",
      "0      2003-01-01 00:00:00                     29.0\n",
      "1      2003-01-01 00:53:00                     29.0\n",
      "2      2003-01-01 01:00:00                     29.0\n",
      "3      2003-01-01 01:53:00                     28.0\n",
      "4      2003-01-01 02:00:00                     28.0\n",
      "...                    ...                      ...\n",
      "127409 2012-12-31 22:53:00                        6\n",
      "127410 2012-12-31 23:00:00                        6\n",
      "127411 2012-12-31 23:53:00                        7\n",
      "127412 2012-12-31 23:59:00                        7\n",
      "127413 2012-12-31 23:59:00                        7\n",
      "\n",
      "[127414 rows x 2 columns],                       DATE HourlyDryBulbTemperature\n",
      "0      2003-01-01 00:00:00                     31.0\n",
      "1      2003-01-01 00:54:00                     31.0\n",
      "2      2003-01-01 01:00:00                     31.0\n",
      "3      2003-01-01 01:54:00                     31.0\n",
      "4      2003-01-01 02:00:00                     31.0\n",
      "...                    ...                      ...\n",
      "124556 2012-12-31 22:54:00                     15.0\n",
      "124557 2012-12-31 23:30:00                     16.0\n",
      "124558 2012-12-31 23:54:00                     15.0\n",
      "124559 2012-12-31 23:59:00                     15.0\n",
      "124560 2012-12-31 23:59:00                     15.0\n",
      "\n",
      "[124561 rows x 2 columns]]\n"
     ]
    },
    {
     "name": "stderr",
     "output_type": "stream",
     "text": [
      "C:\\Users\\ramosv\\AppData\\Local\\Temp\\ipykernel_18160\\1695616801.py:13: DtypeWarning: Columns (44) have mixed types. Specify dtype option on import or set low_memory=False.\n",
      "  frame = pd.read_csv(path+file,usecols = [\"DATE\",\"HourlyDryBulbTemperature\"])\n"
     ]
    }
   ],
   "source": [
    "# Reading all files into dataframes\n",
    "\n",
    "import pandas as pd\n",
    "import os\n",
    "\n",
    "files = ['Alamosa-2003-2012.csv','Denver-2003-2012.csv','Grand-2003-2012.csv','Springs-2003-2012.csv']\n",
    "path = \"C:/Users/ramosv/Desktop/GitHub/Weather-Prediction-Model/raw_data/Weather Prediction Raw Data/\"\n",
    "\n",
    "frames = []\n",
    "\n",
    "for file in files:\n",
    "    #print(path+file)\n",
    "    frame = pd.read_csv(path+file,usecols = [\"DATE\",\"HourlyDryBulbTemperature\"])\n",
    "    frame['DATE'] = pd.to_datetime(frame['DATE'])\n",
    "    frame['HourlyDryBulbTemperature'].interpolate(inplace=True)\n",
    "    frame['HourlyDryBulbTemperature'].fillna(method='ffill', inplace=True)\n",
    "    frame['HourlyDryBulbTemperature'].fillna(method='bfill', inplace=True)\n",
    "    frames.append(frame)\n",
    "\n",
    "print(frames)"
   ]
  }
 ],
 "metadata": {
  "kernelspec": {
   "display_name": "Python 3 (ipykernel)",
   "language": "python",
   "name": "python3"
  },
  "language_info": {
   "codemirror_mode": {
    "name": "ipython",
    "version": 3
   },
   "file_extension": ".py",
   "mimetype": "text/x-python",
   "name": "python",
   "nbconvert_exporter": "python",
   "pygments_lexer": "ipython3",
   "version": "3.9.13"
  }
 },
 "nbformat": 4,
 "nbformat_minor": 2
}
